{
 "cells": [
  {
   "cell_type": "code",
   "execution_count": 21,
   "metadata": {},
   "outputs": [
    {
     "data": {
      "text/plain": [
       "(                     주문일                                  상품명      가격  \\\n",
       " 0    2025-01-15 02:19:03                           자가비 케첩맛 3p   7,180   \n",
       " 1    2025-01-15 02:19:03                       농심 육개장 사발면 86g   4,980   \n",
       " 2    2025-01-15 02:19:03                    오뚜기 컵누들 마라탕 44.7g   6,350   \n",
       " 3    2025-01-15 02:19:03         라온 2in1 맥세이프 호환 듀얼 무선충전기 15W  27,900   \n",
       " 4    2025-01-13 05:06:48  솔향가득 잎편백수 천연 피톤치드 원액 스프레이 + 스프레이 공병  16,500   \n",
       " ..                   ...                                  ...     ...   \n",
       " 413  2024-01-02 05:31:02                         나랑드 사이다 그린애플  13,200   \n",
       " 414  2024-01-02 05:31:02            코멧 순백 3겹 라벤더 바닐라 롤화장지 30m  13,490   \n",
       " 415  2024-01-02 05:31:02          코멧 프리미엄 부드러운 천연펄프 미용티슈 280매  10,890   \n",
       " 416  2024-01-02 05:31:02                      슈가로로 스파클링 사과 음료  22,900   \n",
       " 417  2024-01-02 05:31:02                카누 다크로스트 아메리카노 원두커피믹스  38,360   \n",
       " \n",
       "           카테고리  \n",
       " 0      음식 및 음료  \n",
       " 1      음식 및 음료  \n",
       " 2      음식 및 음료  \n",
       " 3    장비 및 생활용품  \n",
       " 4    장비 및 생활용품  \n",
       " ..         ...  \n",
       " 413    음식 및 음료  \n",
       " 414  장비 및 생활용품  \n",
       " 415  장비 및 생활용품  \n",
       " 416    음식 및 음료  \n",
       " 417    음식 및 음료  \n",
       " \n",
       " [418 rows x 4 columns],\n",
       "                      주문일                          상품명      가격       카테고리\n",
       " 0    2023-12-21 08:09:34        켈로그 프로틴 그래놀라 쉐이크 미숫가루  19,900    음식 및 음료\n",
       " 1    2023-12-21 08:09:34                     쿠크다스 케이크  13,020    음식 및 음료\n",
       " 2    2023-12-21 08:09:34  미주라 통밀도넛츠 2p + 초코칩 통밀도넛츠 2p  17,500    음식 및 음료\n",
       " 3    2023-12-21 08:09:34               곰곰 간편한 미숫가루 스틱  16,300    음식 및 음료\n",
       " 4    2023-12-21 08:09:34               농심 짜파게티 범벅 70g   5,040    음식 및 음료\n",
       " ..                   ...                          ...     ...        ...\n",
       " 403  2023-01-09 01:10:56        카누 다크로스트 아메리카노 원두커피믹스  16,340    음식 및 음료\n",
       " 404  2023-01-08 03:56:31                고르고 바른 마스크 대형   7,900  장비 및 생활용품\n",
       " 405  2023-01-05 02:42:00                   공차 허니자몽블랙티   7,380    음식 및 음료\n",
       " 406  2023-01-05 02:42:00           ipTIME USB허브 UC304  14,240  장비 및 생활용품\n",
       " 407  2023-01-05 02:42:00        알티스트 핫초코 한잔에 당분이 단 1g   8,900    음식 및 음료\n",
       " \n",
       " [408 rows x 4 columns])"
      ]
     },
     "execution_count": 21,
     "metadata": {},
     "output_type": "execute_result"
    }
   ],
   "source": [
    "import pandas as pd\n",
    "\n",
    "df = pd.read_excel('excel/coupang2024.xlsx')\n",
    "df2023=pd.read_excel('excel/coupang2023.xlsx')\n",
    "\n",
    "df,df2023"
   ]
  },
  {
   "cell_type": "code",
   "execution_count": 22,
   "metadata": {},
   "outputs": [
    {
     "data": {
      "text/plain": [
       "주문일     0\n",
       "상품명     0\n",
       "가격      0\n",
       "카테고리    0\n",
       "dtype: int64"
      ]
     },
     "execution_count": 22,
     "metadata": {},
     "output_type": "execute_result"
    }
   ],
   "source": [
    "import numpy as np\n",
    "\n",
    "# 빈 문자열을 NaN으로 변환\n",
    "df2023.replace(\"\", np.nan, inplace=True)\n",
    "\n",
    "# 비어있는 행\n",
    "df2023.isnull().sum()"
   ]
  },
  {
   "cell_type": "code",
   "execution_count": 23,
   "metadata": {},
   "outputs": [
    {
     "name": "stdout",
     "output_type": "stream",
     "text": [
      "                   주문일                          상품명      가격     카테고리\n",
      "0  2023-12-21 08:09:34        켈로그 프로틴 그래놀라 쉐이크 미숫가루  19,900  음식 및 음료\n",
      "1  2023-12-21 08:09:34                     쿠크다스 케이크  13,020  음식 및 음료\n",
      "2  2023-12-21 08:09:34  미주라 통밀도넛츠 2p + 초코칩 통밀도넛츠 2p  17,500  음식 및 음료\n",
      "3  2023-12-21 08:09:34               곰곰 간편한 미숫가루 스틱  16,300  음식 및 음료\n",
      "4  2023-12-21 08:09:34               농심 짜파게티 범벅 70g   5,040  음식 및 음료\n",
      "주문일     0\n",
      "상품명     0\n",
      "가격      0\n",
      "카테고리    0\n",
      "dtype: int64\n"
     ]
    }
   ],
   "source": [
    "# NaN이 포함된 행 삭제\n",
    "df2023.dropna(how='all', inplace=True)\n",
    "\n",
    "print(df2023.head())  # 결과 확인\n",
    "print(df2023.isnull().sum())"
   ]
  },
  {
   "cell_type": "code",
   "execution_count": 20,
   "metadata": {},
   "outputs": [],
   "source": [
    "#저장 \n",
    "# df2023.to_excel('coupang2023.xlsx', index=False)"
   ]
  },
  {
   "cell_type": "code",
   "execution_count": 11,
   "metadata": {},
   "outputs": [
    {
     "name": "stdout",
     "output_type": "stream",
     "text": [
      "Label Mapping: {0: '음식 및 음료', 1: '장비 및 생활용품'}\n",
      "Reverse Label Mapping: {'음식 및 음료': 0, '장비 및 생활용품': 1}\n",
      "\n",
      "모델 성능 평가:\n",
      "              precision    recall  f1-score   support\n",
      "\n",
      "     음식 및 음료       0.88      1.00      0.94        59\n",
      "   장비 및 생활용품       1.00      0.68      0.81        25\n",
      "\n",
      "    accuracy                           0.90        84\n",
      "   macro avg       0.94      0.84      0.87        84\n",
      "weighted avg       0.92      0.90      0.90        84\n",
      "\n",
      "\n",
      "예측된 결과:\n",
      "                     주문일                                  상품명      가격  카테고리\n",
      "0    2025-01-15 02:19:03                           자가비 케첩맛 3p   7,180     0\n",
      "1    2025-01-15 02:19:03                       농심 육개장 사발면 86g   4,980     0\n",
      "2    2025-01-15 02:19:03                    오뚜기 컵누들 마라탕 44.7g   6,350     0\n",
      "3    2025-01-15 02:19:03         라온 2in1 맥세이프 호환 듀얼 무선충전기 15W  27,900     1\n",
      "4    2025-01-13 05:06:48  솔향가득 잎편백수 천연 피톤치드 원액 스프레이 + 스프레이 공병  16,500     1\n",
      "..                   ...                                  ...     ...   ...\n",
      "413  2024-01-02 05:31:02                         나랑드 사이다 그린애플  13,200     0\n",
      "414  2024-01-02 05:31:02            코멧 순백 3겹 라벤더 바닐라 롤화장지 30m  13,490     1\n",
      "415  2024-01-02 05:31:02          코멧 프리미엄 부드러운 천연펄프 미용티슈 280매  10,890     1\n",
      "416  2024-01-02 05:31:02                      슈가로로 스파클링 사과 음료  22,900     0\n",
      "417  2024-01-02 05:31:02                카누 다크로스트 아메리카노 원두커피믹스  38,360     0\n",
      "\n",
      "[418 rows x 4 columns]\n"
     ]
    }
   ],
   "source": [
    "import pandas as pd\n",
    "from sklearn.model_selection import train_test_split\n",
    "from sklearn.feature_extraction.text import TfidfVectorizer\n",
    "from sklearn.linear_model import LogisticRegression\n",
    "from sklearn.metrics import classification_report\n",
    "from sklearn.model_selection import GridSearchCV\n",
    "\n",
    "\n",
    "# 라벨 인코딩\n",
    "df['카테고리'] = df['카테고리'].astype('category')\n",
    "label_mapping = {idx: label for idx, label in enumerate(df['카테고리'].cat.categories)}\n",
    "reverse_label_mapping = {label: idx for idx, label in label_mapping.items()}\n",
    "df['카테고리'] = df['카테고리'].cat.codes\n",
    "\n",
    "print(\"Label Mapping:\", label_mapping)\n",
    "print(\"Reverse Label Mapping:\", reverse_label_mapping)\n",
    "\n",
    "# 데이터 분리\n",
    "X_train, X_test, y_train, y_test = train_test_split(df['상품명'], df['카테고리'], test_size=0.2, random_state=42)\n",
    "\n",
    "# TF-IDF 벡터화\n",
    "vectorizer = TfidfVectorizer(max_features=1000)\n",
    "X_train_tfidf = vectorizer.fit_transform(X_train)\n",
    "X_test_tfidf = vectorizer.transform(X_test)\n",
    "\n",
    "# 로지스틱 회귀 모델 학습\n",
    "model = LogisticRegression(max_iter=1000, random_state=42,class_weight='balanced')\n",
    "model.fit(X_train_tfidf, y_train)\n",
    "\n",
    "# 예측\n",
    "y_pred = model.predict(X_test_tfidf)\n",
    "\n",
    "# 성능 평가\n",
    "print(\"\\n모델 성능 평가:\")\n",
    "print(classification_report(y_test, y_pred, target_names=list(label_mapping.values()), zero_division=0))\n",
    "\n",
    "# 새로운 데이터 예측\n",
    "df_tfidf = vectorizer.transform(df2023['상품명'])\n",
    "df2023['카테고리'] = model.predict(df_tfidf)\n",
    "df2023['카테고리'] = df2023['카테고리'].map(label_mapping)\n",
    "\n",
    "# 결과 확인\n",
    "print(\"\\n예측된 결과:\")\n",
    "print(df)\n"
   ]
  },
  {
   "cell_type": "code",
   "execution_count": 12,
   "metadata": {},
   "outputs": [
    {
     "name": "stdout",
     "output_type": "stream",
     "text": [
      "Best Parameters: {'C': 1, 'class_weight': 'balanced', 'penalty': 'l2', 'solver': 'liblinear'}\n",
      "\n",
      "모델 성능 평가:\n",
      "              precision    recall  f1-score   support\n",
      "\n",
      "     음식 및 음료       0.88      1.00      0.94        59\n",
      "   장비 및 생활용품       1.00      0.68      0.81        25\n",
      "\n",
      "    accuracy                           0.90        84\n",
      "   macro avg       0.94      0.84      0.87        84\n",
      "weighted avg       0.92      0.90      0.90        84\n",
      "\n"
     ]
    }
   ],
   "source": [
    "# TF-IDF 벡터화\n",
    "vectorizer = TfidfVectorizer(max_features=1000)\n",
    "X_train_tfidf = vectorizer.fit_transform(X_train)\n",
    "X_test_tfidf = vectorizer.transform(X_test)\n",
    "\n",
    "# 로지스틱 회귀 모델 학습 및 GridSearchCV\n",
    "param_grid = {\n",
    "    'C': [0.1, 1, 10, 100],\n",
    "    'penalty': ['l2'],\n",
    "    'solver': ['liblinear'],\n",
    "    'class_weight': ['balanced']\n",
    "}\n",
    "\n",
    "grid = GridSearchCV(LogisticRegression(max_iter=1000, random_state=42), param_grid, cv=5, scoring='accuracy')\n",
    "grid.fit(X_train_tfidf, y_train)\n",
    "\n",
    "# 최적의 하이퍼파라미터 출력\n",
    "print(\"Best Parameters:\", grid.best_params_)\n",
    "\n",
    "# 최적의 모델로 예측\n",
    "y_pred = grid.best_estimator_.predict(X_test_tfidf)\n",
    "\n",
    "# 성능 평가\n",
    "print(\"\\n모델 성능 평가:\")\n",
    "print(classification_report(y_test, y_pred, target_names=list(label_mapping.values()), zero_division=0))"
   ]
  },
  {
   "cell_type": "code",
   "execution_count": 13,
   "metadata": {},
   "outputs": [
    {
     "name": "stdout",
     "output_type": "stream",
     "text": [
      "Best Parameters: {'C': 0.4, 'class_weight': 'balanced', 'penalty': 'l2', 'solver': 'liblinear'}\n",
      "\n",
      "모델 성능 평가:\n",
      "              precision    recall  f1-score   support\n",
      "\n",
      "     음식 및 음료       0.88      1.00      0.94        59\n",
      "   장비 및 생활용품       1.00      0.68      0.81        25\n",
      "\n",
      "    accuracy                           0.90        84\n",
      "   macro avg       0.94      0.84      0.87        84\n",
      "weighted avg       0.92      0.90      0.90        84\n",
      "\n"
     ]
    }
   ],
   "source": [
    "# TF-IDF 벡터화\n",
    "vectorizer = TfidfVectorizer(max_features=1000)\n",
    "X_train_tfidf = vectorizer.fit_transform(X_train)\n",
    "X_test_tfidf = vectorizer.transform(X_test)\n",
    "\n",
    "# 로지스틱 회귀 모델 학습 및 GridSearchCV\n",
    "param_grid = {\n",
    "    'C': [0.3,0.4,0.5,0.6,0.7],\n",
    "    'penalty': ['l2'],\n",
    "    'solver': ['liblinear'],\n",
    "    'class_weight': ['balanced']\n",
    "}\n",
    "\n",
    "grid = GridSearchCV(LogisticRegression(max_iter=1000, random_state=42), param_grid, cv=5, scoring='accuracy')\n",
    "grid.fit(X_train_tfidf, y_train)\n",
    "\n",
    "# 최적의 하이퍼파라미터 출력\n",
    "print(\"Best Parameters:\", grid.best_params_)\n",
    "\n",
    "# 최적의 모델로 예측\n",
    "y_pred = grid.best_estimator_.predict(X_test_tfidf)\n",
    "\n",
    "# 성능 평가\n",
    "print(\"\\n모델 성능 평가:\")\n",
    "print(classification_report(y_test, y_pred, target_names=list(label_mapping.values()), zero_division=0))"
   ]
  },
  {
   "cell_type": "code",
   "execution_count": 14,
   "metadata": {},
   "outputs": [
    {
     "name": "stdout",
     "output_type": "stream",
     "text": [
      "\n",
      "예측된 결과:\n",
      "                     주문일                          상품명      가격       카테고리\n",
      "0    2023-12-21 08:09:34        켈로그 프로틴 그래놀라 쉐이크 미숫가루  19,900    음식 및 음료\n",
      "1    2023-12-21 08:09:34                     쿠크다스 케이크  13,020    음식 및 음료\n",
      "2    2023-12-21 08:09:34  미주라 통밀도넛츠 2p + 초코칩 통밀도넛츠 2p  17,500    음식 및 음료\n",
      "3    2023-12-21 08:09:34               곰곰 간편한 미숫가루 스틱  16,300    음식 및 음료\n",
      "4    2023-12-21 08:09:34               농심 짜파게티 범벅 70g   5,040    음식 및 음료\n",
      "..                   ...                          ...     ...        ...\n",
      "409  2023-01-09 01:10:56        카누 다크로스트 아메리카노 원두커피믹스  16,340    음식 및 음료\n",
      "410  2023-01-08 03:56:31                고르고 바른 마스크 대형   7,900  장비 및 생활용품\n",
      "411  2023-01-05 02:42:00                   공차 허니자몽블랙티   7,380    음식 및 음료\n",
      "412  2023-01-05 02:42:00           ipTIME USB허브 UC304  14,240  장비 및 생활용품\n",
      "413  2023-01-05 02:42:00        알티스트 핫초코 한잔에 당분이 단 1g   8,900    음식 및 음료\n",
      "\n",
      "[414 rows x 4 columns]\n"
     ]
    }
   ],
   "source": [
    "# 새로운 데이터 예측 2023데이터터\n",
    "df_tfidf = vectorizer.transform(df2023['상품명'])\n",
    "df2023['카테고리'] = grid.best_estimator_.predict(df_tfidf)\n",
    "df2023['카테고리'] = df2023['카테고리'].map(label_mapping)\n",
    "\n",
    "# 결과 확인\n",
    "print(\"\\n예측된 결과:\")\n",
    "print(df2023)"
   ]
  },
  {
   "cell_type": "code",
   "execution_count": 15,
   "metadata": {},
   "outputs": [],
   "source": [
    "# 엑셀 파일로 저장 \n",
    "df2023.to_excel('coupang2023.xlsx', index=False)"
   ]
  }
 ],
 "metadata": {
  "kernelspec": {
   "display_name": "Python 3",
   "language": "python",
   "name": "python3"
  },
  "language_info": {
   "codemirror_mode": {
    "name": "ipython",
    "version": 3
   },
   "file_extension": ".py",
   "mimetype": "text/x-python",
   "name": "python",
   "nbconvert_exporter": "python",
   "pygments_lexer": "ipython3",
   "version": "3.12.4"
  }
 },
 "nbformat": 4,
 "nbformat_minor": 2
}

{
 "cells": [
  {
   "cell_type": "markdown",
   "metadata": {},
   "source": [
    "# 2023,2024 쿠팡 데이터로 2023 쿠팡 데이터를 예측해 유사성 측정 및 모델 추출"
   ]
  },
  {
   "cell_type": "code",
   "execution_count": 53,
   "metadata": {},
   "outputs": [
    {
     "data": {
      "text/html": [
       "<div>\n",
       "<style scoped>\n",
       "    .dataframe tbody tr th:only-of-type {\n",
       "        vertical-align: middle;\n",
       "    }\n",
       "\n",
       "    .dataframe tbody tr th {\n",
       "        vertical-align: top;\n",
       "    }\n",
       "\n",
       "    .dataframe thead th {\n",
       "        text-align: right;\n",
       "    }\n",
       "</style>\n",
       "<table border=\"1\" class=\"dataframe\">\n",
       "  <thead>\n",
       "    <tr style=\"text-align: right;\">\n",
       "      <th></th>\n",
       "      <th>주문일</th>\n",
       "      <th>상품명</th>\n",
       "      <th>가격</th>\n",
       "      <th>카테고리</th>\n",
       "    </tr>\n",
       "  </thead>\n",
       "  <tbody>\n",
       "    <tr>\n",
       "      <th>0</th>\n",
       "      <td>2025-01-15 02:19:03</td>\n",
       "      <td>자가비 케첩맛 3p</td>\n",
       "      <td>7,180</td>\n",
       "      <td>음식 및 음료</td>\n",
       "    </tr>\n",
       "    <tr>\n",
       "      <th>1</th>\n",
       "      <td>2025-01-15 02:19:03</td>\n",
       "      <td>농심 육개장 사발면 86g</td>\n",
       "      <td>4,980</td>\n",
       "      <td>음식 및 음료</td>\n",
       "    </tr>\n",
       "    <tr>\n",
       "      <th>2</th>\n",
       "      <td>2025-01-15 02:19:03</td>\n",
       "      <td>오뚜기 컵누들 마라탕 44.7g</td>\n",
       "      <td>6,350</td>\n",
       "      <td>음식 및 음료</td>\n",
       "    </tr>\n",
       "    <tr>\n",
       "      <th>3</th>\n",
       "      <td>2025-01-15 02:19:03</td>\n",
       "      <td>라온 2in1 맥세이프 호환 듀얼 무선충전기 15W</td>\n",
       "      <td>27,900</td>\n",
       "      <td>장비 및 생활용품</td>\n",
       "    </tr>\n",
       "    <tr>\n",
       "      <th>4</th>\n",
       "      <td>2025-01-13 05:06:48</td>\n",
       "      <td>솔향가득 잎편백수 천연 피톤치드 원액 스프레이 + 스프레이 공병</td>\n",
       "      <td>16,500</td>\n",
       "      <td>장비 및 생활용품</td>\n",
       "    </tr>\n",
       "    <tr>\n",
       "      <th>...</th>\n",
       "      <td>...</td>\n",
       "      <td>...</td>\n",
       "      <td>...</td>\n",
       "      <td>...</td>\n",
       "    </tr>\n",
       "    <tr>\n",
       "      <th>821</th>\n",
       "      <td>2023-01-09 01:10:56</td>\n",
       "      <td>카누 다크로스트 아메리카노 원두커피믹스</td>\n",
       "      <td>16,340</td>\n",
       "      <td>음식 및 음료</td>\n",
       "    </tr>\n",
       "    <tr>\n",
       "      <th>822</th>\n",
       "      <td>2023-01-08 03:56:31</td>\n",
       "      <td>고르고 바른 마스크 대형</td>\n",
       "      <td>7,900</td>\n",
       "      <td>장비 및 생활용품</td>\n",
       "    </tr>\n",
       "    <tr>\n",
       "      <th>823</th>\n",
       "      <td>2023-01-05 02:42:00</td>\n",
       "      <td>공차 허니자몽블랙티</td>\n",
       "      <td>7,380</td>\n",
       "      <td>음식 및 음료</td>\n",
       "    </tr>\n",
       "    <tr>\n",
       "      <th>824</th>\n",
       "      <td>2023-01-05 02:42:00</td>\n",
       "      <td>ipTIME USB허브 UC304</td>\n",
       "      <td>14,240</td>\n",
       "      <td>장비 및 생활용품</td>\n",
       "    </tr>\n",
       "    <tr>\n",
       "      <th>825</th>\n",
       "      <td>2023-01-05 02:42:00</td>\n",
       "      <td>알티스트 핫초코 한잔에 당분이 단 1g</td>\n",
       "      <td>8,900</td>\n",
       "      <td>음식 및 음료</td>\n",
       "    </tr>\n",
       "  </tbody>\n",
       "</table>\n",
       "<p>826 rows × 4 columns</p>\n",
       "</div>"
      ],
      "text/plain": [
       "                     주문일                                  상품명      가격  \\\n",
       "0    2025-01-15 02:19:03                           자가비 케첩맛 3p   7,180   \n",
       "1    2025-01-15 02:19:03                       농심 육개장 사발면 86g   4,980   \n",
       "2    2025-01-15 02:19:03                    오뚜기 컵누들 마라탕 44.7g   6,350   \n",
       "3    2025-01-15 02:19:03         라온 2in1 맥세이프 호환 듀얼 무선충전기 15W  27,900   \n",
       "4    2025-01-13 05:06:48  솔향가득 잎편백수 천연 피톤치드 원액 스프레이 + 스프레이 공병  16,500   \n",
       "..                   ...                                  ...     ...   \n",
       "821  2023-01-09 01:10:56                카누 다크로스트 아메리카노 원두커피믹스  16,340   \n",
       "822  2023-01-08 03:56:31                        고르고 바른 마스크 대형   7,900   \n",
       "823  2023-01-05 02:42:00                           공차 허니자몽블랙티   7,380   \n",
       "824  2023-01-05 02:42:00                   ipTIME USB허브 UC304  14,240   \n",
       "825  2023-01-05 02:42:00                알티스트 핫초코 한잔에 당분이 단 1g   8,900   \n",
       "\n",
       "          카테고리  \n",
       "0      음식 및 음료  \n",
       "1      음식 및 음료  \n",
       "2      음식 및 음료  \n",
       "3    장비 및 생활용품  \n",
       "4    장비 및 생활용품  \n",
       "..         ...  \n",
       "821    음식 및 음료  \n",
       "822  장비 및 생활용품  \n",
       "823    음식 및 음료  \n",
       "824  장비 및 생활용품  \n",
       "825    음식 및 음료  \n",
       "\n",
       "[826 rows x 4 columns]"
      ]
     },
     "execution_count": 53,
     "metadata": {},
     "output_type": "execute_result"
    }
   ],
   "source": [
    "import pandas as pd\n",
    "\n",
    "df = pd.read_excel('excel/coupang.xlsx')\n",
    "df"
   ]
  },
  {
   "cell_type": "code",
   "execution_count": 54,
   "metadata": {},
   "outputs": [],
   "source": [
    "df2023=pd.read_excel('excel/coupang2023.xlsx')"
   ]
  },
  {
   "cell_type": "code",
   "execution_count": 55,
   "metadata": {},
   "outputs": [
    {
     "name": "stdout",
     "output_type": "stream",
     "text": [
      "Label Mapping: {0: '음식 및 음료', 1: '장비 및 생활용품'}\n",
      "Reverse Label Mapping: {'음식 및 음료': 0, '장비 및 생활용품': 1}\n",
      "\n",
      "모델 성능 평가:\n",
      "              precision    recall  f1-score   support\n",
      "\n",
      "     음식 및 음료       0.91      0.99      0.95       108\n",
      "   장비 및 생활용품       0.98      0.83      0.90        58\n",
      "\n",
      "    accuracy                           0.93       166\n",
      "   macro avg       0.95      0.91      0.92       166\n",
      "weighted avg       0.94      0.93      0.93       166\n",
      "\n",
      "\n",
      "예측된 결과:\n",
      "                     주문일                          상품명      가격       카테고리\n",
      "0    2023-12-21 08:09:34        켈로그 프로틴 그래놀라 쉐이크 미숫가루  19,900    음식 및 음료\n",
      "1    2023-12-21 08:09:34                     쿠크다스 케이크  13,020    음식 및 음료\n",
      "2    2023-12-21 08:09:34  미주라 통밀도넛츠 2p + 초코칩 통밀도넛츠 2p  17,500    음식 및 음료\n",
      "3    2023-12-21 08:09:34               곰곰 간편한 미숫가루 스틱  16,300    음식 및 음료\n",
      "4    2023-12-21 08:09:34               농심 짜파게티 범벅 70g   5,040    음식 및 음료\n",
      "..                   ...                          ...     ...        ...\n",
      "403  2023-01-09 01:10:56        카누 다크로스트 아메리카노 원두커피믹스  16,340    음식 및 음료\n",
      "404  2023-01-08 03:56:31                고르고 바른 마스크 대형   7,900  장비 및 생활용품\n",
      "405  2023-01-05 02:42:00                   공차 허니자몽블랙티   7,380    음식 및 음료\n",
      "406  2023-01-05 02:42:00           ipTIME USB허브 UC304  14,240  장비 및 생활용품\n",
      "407  2023-01-05 02:42:00        알티스트 핫초코 한잔에 당분이 단 1g   8,900    음식 및 음료\n",
      "\n",
      "[408 rows x 4 columns]\n"
     ]
    }
   ],
   "source": [
    "import pandas as pd\n",
    "from sklearn.model_selection import train_test_split\n",
    "from sklearn.feature_extraction.text import TfidfVectorizer\n",
    "from sklearn.linear_model import LogisticRegression\n",
    "from sklearn.metrics import classification_report\n",
    "from sklearn.model_selection import GridSearchCV\n",
    "\n",
    "\n",
    "# 라벨 인코딩\n",
    "df['카테고리'] = df['카테고리'].astype('category')\n",
    "label_mapping = {idx: label for idx, label in enumerate(df['카테고리'].cat.categories)}\n",
    "reverse_label_mapping = {label: idx for idx, label in label_mapping.items()}\n",
    "df['카테고리'] = df['카테고리'].cat.codes\n",
    "\n",
    "print(\"Label Mapping:\", label_mapping)\n",
    "print(\"Reverse Label Mapping:\", reverse_label_mapping)\n",
    "\n",
    "# 데이터 분리\n",
    "X_train, X_test, y_train, y_test = train_test_split(df['상품명'], df['카테고리'], test_size=0.2, random_state=42)\n",
    "\n",
    "# TF-IDF 벡터화\n",
    "vectorizer = TfidfVectorizer(max_features=1000)\n",
    "X_train_tfidf = vectorizer.fit_transform(X_train)\n",
    "X_test_tfidf = vectorizer.transform(X_test)\n",
    "\n",
    "# 로지스틱 회귀 모델 학습\n",
    "model = LogisticRegression(max_iter=5000, random_state=42,class_weight='balanced')\n",
    "model.fit(X_train_tfidf, y_train)\n",
    "\n",
    "# 예측\n",
    "y_pred = model.predict(X_test_tfidf)\n",
    "\n",
    "# 성능 평가\n",
    "print(\"\\n모델 성능 평가:\")\n",
    "print(classification_report(y_test, y_pred, target_names=list(label_mapping.values()), zero_division=0))\n",
    "\n",
    "# 새로운 데이터 예측\n",
    "df_tfidf = vectorizer.transform(df2023['상품명'])\n",
    "df2023['카테고리'] = model.predict(df_tfidf)\n",
    "df2023['카테고리'] = df2023['카테고리'].map(label_mapping)\n",
    "\n",
    "# 결과 확인\n",
    "print(\"\\n예측된 결과:\")\n",
    "print(df2023)\n"
   ]
  },
  {
   "cell_type": "code",
   "execution_count": 56,
   "metadata": {},
   "outputs": [
    {
     "name": "stdout",
     "output_type": "stream",
     "text": [
      "Best Parameters: {'C': 0.1, 'class_weight': 'balanced', 'penalty': 'l2', 'solver': 'liblinear'}\n",
      "\n",
      "모델 성능 평가:\n",
      "              precision    recall  f1-score   support\n",
      "\n",
      "     음식 및 음료       0.92      1.00      0.96       108\n",
      "   장비 및 생활용품       1.00      0.83      0.91        58\n",
      "\n",
      "    accuracy                           0.94       166\n",
      "   macro avg       0.96      0.91      0.93       166\n",
      "weighted avg       0.94      0.94      0.94       166\n",
      "\n"
     ]
    }
   ],
   "source": [
    "from sklearn.preprocessing import StandardScaler\n",
    "# TF-IDF 벡터화\n",
    "vectorizer = TfidfVectorizer(max_features=1000)\n",
    "X_train_tfidf = vectorizer.fit_transform(X_train)\n",
    "X_test_tfidf = vectorizer.transform(X_test)\n",
    "\n",
    "# 로지스틱 회귀 모델 학습 및 GridSearchCV\n",
    "param_grid = {\n",
    "    'C': [0.1],\n",
    "    'penalty': ['l2'],  # 정규화 방식\n",
    "    'solver': ['liblinear', 'saga'],  # 최적화 알고리즘\n",
    "    'class_weight': ['balanced']\n",
    "}\n",
    "\n",
    "grid = GridSearchCV(LogisticRegression(max_iter=5000, random_state=42), param_grid, cv=5, scoring='accuracy')\n",
    "grid.fit(X_train_tfidf, y_train)\n",
    "\n",
    "# 최적의 하이퍼파라미터 출력\n",
    "print(\"Best Parameters:\", grid.best_params_)\n",
    "\n",
    "# 최적의 모델로 예측\n",
    "y_pred = grid.best_estimator_.predict(X_test_tfidf)\n",
    "\n",
    "# 성능 평가\n",
    "print(\"\\n모델 성능 평가:\")\n",
    "print(classification_report(y_test, y_pred, target_names=list(label_mapping.values()), zero_division=0))"
   ]
  },
  {
   "cell_type": "code",
   "execution_count": 57,
   "metadata": {},
   "outputs": [
    {
     "name": "stdout",
     "output_type": "stream",
     "text": [
      "\n",
      "예측된 결과:\n",
      "                     주문일                          상품명      가격       카테고리\n",
      "0    2023-12-21 08:09:34        켈로그 프로틴 그래놀라 쉐이크 미숫가루  19,900    음식 및 음료\n",
      "1    2023-12-21 08:09:34                     쿠크다스 케이크  13,020    음식 및 음료\n",
      "2    2023-12-21 08:09:34  미주라 통밀도넛츠 2p + 초코칩 통밀도넛츠 2p  17,500    음식 및 음료\n",
      "3    2023-12-21 08:09:34               곰곰 간편한 미숫가루 스틱  16,300    음식 및 음료\n",
      "4    2023-12-21 08:09:34               농심 짜파게티 범벅 70g   5,040    음식 및 음료\n",
      "..                   ...                          ...     ...        ...\n",
      "403  2023-01-09 01:10:56        카누 다크로스트 아메리카노 원두커피믹스  16,340    음식 및 음료\n",
      "404  2023-01-08 03:56:31                고르고 바른 마스크 대형   7,900  장비 및 생활용품\n",
      "405  2023-01-05 02:42:00                   공차 허니자몽블랙티   7,380    음식 및 음료\n",
      "406  2023-01-05 02:42:00           ipTIME USB허브 UC304  14,240  장비 및 생활용품\n",
      "407  2023-01-05 02:42:00        알티스트 핫초코 한잔에 당분이 단 1g   8,900    음식 및 음료\n",
      "\n",
      "[408 rows x 4 columns]\n"
     ]
    }
   ],
   "source": [
    "# 새로운 데이터 예측 2023데이터터\n",
    "df_tfidf = vectorizer.transform(df2023['상품명'])\n",
    "df2023['카테고리'] = grid.best_estimator_.predict(df_tfidf)\n",
    "df2023['카테고리'] = df2023['카테고리'].map(label_mapping)\n",
    "\n",
    "# 결과 확인\n",
    "print(\"\\n예측된 결과:\")\n",
    "print(df2023)"
   ]
  },
  {
   "cell_type": "code",
   "execution_count": 58,
   "metadata": {},
   "outputs": [],
   "source": [
    "df23=pd.read_excel('excel/coupang2023.xlsx') # 수작업라벨링링"
   ]
  },
  {
   "cell_type": "code",
   "execution_count": 59,
   "metadata": {},
   "outputs": [
    {
     "name": "stdout",
     "output_type": "stream",
     "text": [
      "총 개수: 408\n",
      "일치 개수: 402\n",
      "불일치 개수: 6\n",
      "일치율: 98.53%\n"
     ]
    }
   ],
   "source": [
    "import pandas as pd\n",
    "\n",
    "# 두 데이터프레임의 길이 확인\n",
    "if len(df23) != len(df2023):\n",
    "    print(\"Warning: 두 데이터프레임의 길이가 다릅니다. 일치하는 인덱스만 비교됩니다.\")\n",
    "\n",
    "# 일치하는 인덱스 비교\n",
    "comparison = df23['카테고리'] == df2023['카테고리']\n",
    "\n",
    "# 결과 계산\n",
    "total_count = len(comparison)  # 총 비교 개수\n",
    "match_count = comparison.sum()  # 일치 개수\n",
    "mismatch_count = total_count - match_count  # 불일치 개수\n",
    "match_percentage = (match_count / total_count) * 100  # 일치 비율\n",
    "\n",
    "# 결과 출력\n",
    "print(f\"총 개수: {total_count}\")\n",
    "print(f\"일치 개수: {match_count}\")\n",
    "print(f\"불일치 개수: {mismatch_count}\")\n",
    "print(f\"일치율: {match_percentage:.2f}%\")"
   ]
  },
  {
   "cell_type": "code",
   "execution_count": 60,
   "metadata": {},
   "outputs": [
    {
     "name": "stdout",
     "output_type": "stream",
     "text": [
      "모델과 벡터라이저가 성공적으로 저장되었습니다.\n"
     ]
    }
   ],
   "source": [
    "import pickle\n",
    "\n",
    "# 모델 저장\n",
    "with open('model/logistic_regression_model.pkl', 'wb') as file:\n",
    "    pickle.dump(grid.best_estimator_, file)\n",
    "\n",
    "# 벡터라이저 저장\n",
    "with open('model/tfidf_vectorizer.pkl', 'wb') as vectorizer_file:\n",
    "    pickle.dump(vectorizer, vectorizer_file)\n",
    "\n",
    "print(\"모델과 벡터라이저가 성공적으로 저장되었습니다.\")"
   ]
  },
  {
   "cell_type": "code",
   "execution_count": 62,
   "metadata": {},
   "outputs": [
    {
     "data": {
      "text/plain": [
       "['label_mapping.joblib']"
      ]
     },
     "execution_count": 62,
     "metadata": {},
     "output_type": "execute_result"
    }
   ],
   "source": [
    "from joblib import dump, load\n",
    "# 라벨 매핑 저장\n",
    "dump(label_mapping, 'model/label_mapping.joblib')"
   ]
  }
 ],
 "metadata": {
  "kernelspec": {
   "display_name": "Python 3",
   "language": "python",
   "name": "python3"
  },
  "language_info": {
   "codemirror_mode": {
    "name": "ipython",
    "version": 3
   },
   "file_extension": ".py",
   "mimetype": "text/x-python",
   "name": "python",
   "nbconvert_exporter": "python",
   "pygments_lexer": "ipython3",
   "version": "3.12.4"
  }
 },
 "nbformat": 4,
 "nbformat_minor": 2
}

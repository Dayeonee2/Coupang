{
 "cells": [
  {
   "cell_type": "markdown",
   "metadata": {},
   "source": [
    "# 새로운 txt 파일을 넣어서 사용하는 카테고리 라벨링 자동화 프로그램"
   ]
  },
  {
   "cell_type": "code",
   "execution_count": 31,
   "metadata": {},
   "outputs": [
    {
     "name": "stdout",
     "output_type": "stream",
     "text": [
      "비어있는 행\n",
      "주문일    0\n",
      "상품명    0\n",
      "가격     0\n",
      "dtype: int64\n",
      "\n",
      "                   주문일                          상품명      가격\n",
      "0  2023-12-21 08:09:34        켈로그 프로틴 그래놀라 쉐이크 미숫가루  19,900\n",
      "1  2023-12-21 08:09:34                     쿠크다스 케이크  13,020\n",
      "2  2023-12-21 08:09:34  미주라 통밀도넛츠 2p + 초코칩 통밀도넛츠 2p  17,500\n",
      "3  2023-12-21 08:09:34               곰곰 간편한 미숫가루 스틱  16,300\n",
      "4  2023-12-21 08:09:34               농심 짜파게티 범벅 70g   5,040\n",
      "\n",
      "주문일    0\n",
      "상품명    0\n",
      "가격     0\n",
      "dtype: int64\n"
     ]
    }
   ],
   "source": [
    "\n",
    "import pandas as pd\n",
    "import numpy as np\n",
    "import pickle\n",
    "from joblib import load\n",
    "\n",
    "data=[]\n",
    "# 텍스트 파일 줄바꿈 기준으로 읽기\n",
    "with open('txt/쿠팡정리2023.txt', 'r', encoding='utf-8') as file:\n",
    "    lines = file.read().splitlines()  # 줄바꿈 기준으로 나눔\n",
    "    for line in lines:\n",
    "        data.append(line.split('\\t'))  # 각 줄을 탭 기준으로 나눔\n",
    "\n",
    "# 데이터를 DataFrame으로 변환 (예: 각 줄을 한 열로)\n",
    "df = pd.DataFrame(data, columns=['주문일','주문ID','사업자코드','사업자명','상품ID','#','상품명','카테고리','가격'])\n",
    "\n",
    "# 필요한 열만 추출출\n",
    "columns_to_drop = df.columns[[1,2,3,4,5,7]]\n",
    "df = df.drop(columns=columns_to_drop)\n",
    "\n",
    "# 빈 문자열을 NaN으로 변환\n",
    "df.replace(\"\", np.nan, inplace=True)\n",
    "\n",
    "# 비어있는 행 표시시\n",
    "print(\"비어있는 행\")\n",
    "print(df.isnull().sum())\n",
    "print()\n",
    "\n",
    "# NaN이 포함된 행 삭제\n",
    "df.dropna(how='all', inplace=True)\n",
    "\n",
    "print(df.head())  # 결과 확인\n",
    "print()\n",
    "print(df.isnull().sum())"
   ]
  },
  {
   "cell_type": "markdown",
   "metadata": {},
   "source": [
    "## modeling.ipynb에서 추출한 모델과 벡터라이저 라벨인코더 사용"
   ]
  },
  {
   "cell_type": "code",
   "execution_count": 32,
   "metadata": {},
   "outputs": [
    {
     "name": "stdout",
     "output_type": "stream",
     "text": [
      "모델과 벡터라이저가 성공적으로 로드되었습니다.\n"
     ]
    }
   ],
   "source": [
    "# 모델 로드\n",
    "with open('model/logistic_regression_model.pkl', 'rb') as model_file:\n",
    "    loaded_model = pickle.load(model_file)\n",
    "\n",
    "# 벡터라이저 로드\n",
    "with open('model/tfidf_vectorizer.pkl', 'rb') as vectorizer_file:\n",
    "    vectorizer = pickle.load(vectorizer_file)\n",
    "    \n",
    "#라벨인코더 로드드       \n",
    "label_mapping = load('model/label_mapping.joblib')\n",
    "\n",
    "print(\"모델과 벡터라이저가 성공적으로 로드되었습니다.\")"
   ]
  },
  {
   "cell_type": "code",
   "execution_count": 33,
   "metadata": {},
   "outputs": [
    {
     "name": "stdout",
     "output_type": "stream",
     "text": [
      "\n",
      "예측된 결과:\n",
      "                     주문일                          상품명      가격       카테고리\n",
      "0    2023-12-21 08:09:34        켈로그 프로틴 그래놀라 쉐이크 미숫가루  19,900    음식 및 음료\n",
      "1    2023-12-21 08:09:34                     쿠크다스 케이크  13,020    음식 및 음료\n",
      "2    2023-12-21 08:09:34  미주라 통밀도넛츠 2p + 초코칩 통밀도넛츠 2p  17,500    음식 및 음료\n",
      "3    2023-12-21 08:09:34               곰곰 간편한 미숫가루 스틱  16,300    음식 및 음료\n",
      "4    2023-12-21 08:09:34               농심 짜파게티 범벅 70g   5,040    음식 및 음료\n",
      "..                   ...                          ...     ...        ...\n",
      "436  2023-01-09 01:10:56        카누 다크로스트 아메리카노 원두커피믹스  16,340    음식 및 음료\n",
      "437  2023-01-08 03:56:31                고르고 바른 마스크 대형   7,900  장비 및 생활용품\n",
      "438  2023-01-05 02:42:00                   공차 허니자몽블랙티   7,380    음식 및 음료\n",
      "439  2023-01-05 02:42:00           ipTIME USB허브 UC304  14,240  장비 및 생활용품\n",
      "440  2023-01-05 02:42:00        알티스트 핫초코 한잔에 당분이 단 1g   8,900    음식 및 음료\n",
      "\n",
      "[441 rows x 4 columns]\n"
     ]
    }
   ],
   "source": [
    "from sklearn.linear_model import LogisticRegression\n",
    "from sklearn.metrics import classification_report\n",
    "from sklearn.model_selection import GridSearchCV\n",
    "\n",
    "\n",
    "\n",
    "# 새로운 데이터에 대한 예측\n",
    "df_tfidf = vectorizer.transform(df['상품명'])  # 기존 벡터라이저 사용\n",
    "df['카테고리'] = loaded_model.predict(df_tfidf)\n",
    "\n",
    "\n",
    "#라벨 0,1 -> 한글변환 함수수\n",
    "df['카테고리'] = df['카테고리'].map(label_mapping)\n",
    "\n",
    "# 결과 확인\n",
    "print(\"\\n예측된 결과:\")\n",
    "print(df)"
   ]
  },
  {
   "cell_type": "code",
   "execution_count": null,
   "metadata": {},
   "outputs": [],
   "source": [
    "# 라벨링된 파일 저장\n",
    "# 저장 후 버전 업그레이드 수정하기기\n",
    "df.to_excel('excel/coupang_V1.0', index=False)"
   ]
  }
 ],
 "metadata": {
  "kernelspec": {
   "display_name": "Python 3",
   "language": "python",
   "name": "python3"
  },
  "language_info": {
   "codemirror_mode": {
    "name": "ipython",
    "version": 3
   },
   "file_extension": ".py",
   "mimetype": "text/x-python",
   "name": "python",
   "nbconvert_exporter": "python",
   "pygments_lexer": "ipython3",
   "version": "3.12.4"
  }
 },
 "nbformat": 4,
 "nbformat_minor": 2
}
